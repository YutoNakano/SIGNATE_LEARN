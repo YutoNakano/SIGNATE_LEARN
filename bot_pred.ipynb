{
  "nbformat": 4,
  "nbformat_minor": 0,
  "metadata": {
    "colab": {
      "name": "bot_pred",
      "version": "0.3.2",
      "provenance": [],
      "collapsed_sections": []
    },
    "kernelspec": {
      "name": "python3",
      "display_name": "Python 3"
    }
  },
  "cells": [
    {
      "metadata": {
        "id": "n9D638LucEYb",
        "colab_type": "code",
        "colab": {}
      },
      "cell_type": "code",
      "source": [
        "import pandas as pd\n",
        "import numpy as np\n",
        "%matplotlib inline\n",
        "import matplotlib.pyplot as plt\n",
        "import seaborn as sns\n",
        "\n",
        "# ファイルの読み込み\n",
        "df_train = pd.read_table('train.tsv', encoding='utf-8')\n",
        "df_test = pd.read_table('test.tsv', encoding='utf-8')"
      ],
      "execution_count": 0,
      "outputs": []
    },
    {
      "metadata": {
        "id": "gNW0QYDdcRTO",
        "colab_type": "code",
        "outputId": "e6dd6b6f-1f3a-49b8-c85c-3437295261f7",
        "colab": {
          "base_uri": "https://localhost:8080/",
          "height": 470
        }
      },
      "cell_type": "code",
      "source": [
        "# データを見てみよう\n",
        "df_full = pd.concat([df_train, df_test], axis=0, ignore_index=True)\n",
        "print(df_full.shape)\n",
        "df_full.describe()"
      ],
      "execution_count": 0,
      "outputs": [
        {
          "output_type": "stream",
          "text": [
            "(3176, 16)\n"
          ],
          "name": "stdout"
        },
        {
          "output_type": "stream",
          "text": [
            "/usr/local/lib/python3.6/dist-packages/ipykernel_launcher.py:1: FutureWarning: Sorting because non-concatenation axis is not aligned. A future version\n",
            "of pandas will change to not sort by default.\n",
            "\n",
            "To accept the future behavior, pass 'sort=False'.\n",
            "\n",
            "To retain the current behavior and silence the warning, pass 'sort=True'.\n",
            "\n",
            "  \"\"\"Entry point for launching an IPython kernel.\n"
          ],
          "name": "stderr"
        },
        {
          "output_type": "execute_result",
          "data": {
            "text/html": [
              "<div>\n",
              "<style scoped>\n",
              "    .dataframe tbody tr th:only-of-type {\n",
              "        vertical-align: middle;\n",
              "    }\n",
              "\n",
              "    .dataframe tbody tr th {\n",
              "        vertical-align: top;\n",
              "    }\n",
              "\n",
              "    .dataframe thead th {\n",
              "        text-align: right;\n",
              "    }\n",
              "</style>\n",
              "<table border=\"1\" class=\"dataframe\">\n",
              "  <thead>\n",
              "    <tr style=\"text-align: right;\">\n",
              "      <th></th>\n",
              "      <th>account_age_hours</th>\n",
              "      <th>bot</th>\n",
              "      <th>default_profile</th>\n",
              "      <th>default_profile_image</th>\n",
              "      <th>diversity</th>\n",
              "      <th>favourites_count</th>\n",
              "      <th>followers_count</th>\n",
              "      <th>friends_count</th>\n",
              "      <th>geo_enabled</th>\n",
              "      <th>id</th>\n",
              "      <th>listed_count</th>\n",
              "      <th>mean_mins_between_tweets</th>\n",
              "      <th>mean_retweets</th>\n",
              "      <th>mean_tweet_length</th>\n",
              "      <th>reply_rate</th>\n",
              "      <th>statuses_count</th>\n",
              "    </tr>\n",
              "  </thead>\n",
              "  <tbody>\n",
              "    <tr>\n",
              "      <th>count</th>\n",
              "      <td>3176.000000</td>\n",
              "      <td>1588.000000</td>\n",
              "      <td>3176.000000</td>\n",
              "      <td>3176.000000</td>\n",
              "      <td>3176.000000</td>\n",
              "      <td>3176.000000</td>\n",
              "      <td>3.176000e+03</td>\n",
              "      <td>3.176000e+03</td>\n",
              "      <td>3176.000000</td>\n",
              "      <td>3176.000000</td>\n",
              "      <td>3176.000000</td>\n",
              "      <td>3.176000e+03</td>\n",
              "      <td>3176.000000</td>\n",
              "      <td>3176.000000</td>\n",
              "      <td>3176.000000</td>\n",
              "      <td>3176.000000</td>\n",
              "    </tr>\n",
              "    <tr>\n",
              "      <th>mean</th>\n",
              "      <td>43663.829975</td>\n",
              "      <td>0.153023</td>\n",
              "      <td>0.289673</td>\n",
              "      <td>0.031171</td>\n",
              "      <td>0.679065</td>\n",
              "      <td>1099.569270</td>\n",
              "      <td>3.709290e+03</td>\n",
              "      <td>2.358259e+03</td>\n",
              "      <td>0.441751</td>\n",
              "      <td>1587.500000</td>\n",
              "      <td>84.766058</td>\n",
              "      <td>1.471542e+04</td>\n",
              "      <td>3.873158</td>\n",
              "      <td>91.411502</td>\n",
              "      <td>0.341110</td>\n",
              "      <td>3277.342569</td>\n",
              "    </tr>\n",
              "    <tr>\n",
              "      <th>std</th>\n",
              "      <td>17862.569953</td>\n",
              "      <td>0.360123</td>\n",
              "      <td>0.453682</td>\n",
              "      <td>0.173808</td>\n",
              "      <td>0.140598</td>\n",
              "      <td>5642.348393</td>\n",
              "      <td>4.385638e+04</td>\n",
              "      <td>2.911900e+04</td>\n",
              "      <td>0.496674</td>\n",
              "      <td>916.976554</td>\n",
              "      <td>348.608750</td>\n",
              "      <td>5.373373e+04</td>\n",
              "      <td>42.676343</td>\n",
              "      <td>19.083251</td>\n",
              "      <td>0.248134</td>\n",
              "      <td>8644.423750</td>\n",
              "    </tr>\n",
              "    <tr>\n",
              "      <th>min</th>\n",
              "      <td>2072.000000</td>\n",
              "      <td>0.000000</td>\n",
              "      <td>0.000000</td>\n",
              "      <td>0.000000</td>\n",
              "      <td>0.005000</td>\n",
              "      <td>0.000000</td>\n",
              "      <td>0.000000e+00</td>\n",
              "      <td>1.100000e+01</td>\n",
              "      <td>0.000000</td>\n",
              "      <td>0.000000</td>\n",
              "      <td>0.000000</td>\n",
              "      <td>-1.565449e+01</td>\n",
              "      <td>1.000000</td>\n",
              "      <td>8.500000</td>\n",
              "      <td>0.000000</td>\n",
              "      <td>0.000000</td>\n",
              "    </tr>\n",
              "    <tr>\n",
              "      <th>25%</th>\n",
              "      <td>30284.750000</td>\n",
              "      <td>0.000000</td>\n",
              "      <td>0.000000</td>\n",
              "      <td>0.000000</td>\n",
              "      <td>0.625419</td>\n",
              "      <td>14.000000</td>\n",
              "      <td>9.500000e+01</td>\n",
              "      <td>3.000000e+02</td>\n",
              "      <td>0.000000</td>\n",
              "      <td>793.750000</td>\n",
              "      <td>4.000000</td>\n",
              "      <td>1.152765e+03</td>\n",
              "      <td>1.166667</td>\n",
              "      <td>80.788596</td>\n",
              "      <td>0.123235</td>\n",
              "      <td>188.000000</td>\n",
              "    </tr>\n",
              "    <tr>\n",
              "      <th>50%</th>\n",
              "      <td>47484.000000</td>\n",
              "      <td>0.000000</td>\n",
              "      <td>0.000000</td>\n",
              "      <td>0.000000</td>\n",
              "      <td>0.696303</td>\n",
              "      <td>122.000000</td>\n",
              "      <td>2.880000e+02</td>\n",
              "      <td>6.150000e+02</td>\n",
              "      <td>0.000000</td>\n",
              "      <td>1587.500000</td>\n",
              "      <td>16.000000</td>\n",
              "      <td>3.851690e+03</td>\n",
              "      <td>1.636364</td>\n",
              "      <td>91.741079</td>\n",
              "      <td>0.313725</td>\n",
              "      <td>723.000000</td>\n",
              "    </tr>\n",
              "    <tr>\n",
              "      <th>75%</th>\n",
              "      <td>56718.000000</td>\n",
              "      <td>0.000000</td>\n",
              "      <td>1.000000</td>\n",
              "      <td>0.000000</td>\n",
              "      <td>0.762596</td>\n",
              "      <td>593.000000</td>\n",
              "      <td>8.305000e+02</td>\n",
              "      <td>1.229000e+03</td>\n",
              "      <td>1.000000</td>\n",
              "      <td>2381.250000</td>\n",
              "      <td>51.000000</td>\n",
              "      <td>1.082377e+04</td>\n",
              "      <td>2.423925</td>\n",
              "      <td>103.283673</td>\n",
              "      <td>0.527856</td>\n",
              "      <td>2646.500000</td>\n",
              "    </tr>\n",
              "    <tr>\n",
              "      <th>max</th>\n",
              "      <td>78841.000000</td>\n",
              "      <td>1.000000</td>\n",
              "      <td>1.000000</td>\n",
              "      <td>1.000000</td>\n",
              "      <td>1.000000</td>\n",
              "      <td>176219.000000</td>\n",
              "      <td>1.396699e+06</td>\n",
              "      <td>1.175187e+06</td>\n",
              "      <td>1.000000</td>\n",
              "      <td>3175.000000</td>\n",
              "      <td>9491.000000</td>\n",
              "      <td>1.139015e+06</td>\n",
              "      <td>1961.300000</td>\n",
              "      <td>287.875912</td>\n",
              "      <td>1.000000</td>\n",
              "      <td>137264.000000</td>\n",
              "    </tr>\n",
              "  </tbody>\n",
              "</table>\n",
              "</div>"
            ],
            "text/plain": [
              "       account_age_hours          bot  default_profile  default_profile_image  \\\n",
              "count        3176.000000  1588.000000      3176.000000            3176.000000   \n",
              "mean        43663.829975     0.153023         0.289673               0.031171   \n",
              "std         17862.569953     0.360123         0.453682               0.173808   \n",
              "min          2072.000000     0.000000         0.000000               0.000000   \n",
              "25%         30284.750000     0.000000         0.000000               0.000000   \n",
              "50%         47484.000000     0.000000         0.000000               0.000000   \n",
              "75%         56718.000000     0.000000         1.000000               0.000000   \n",
              "max         78841.000000     1.000000         1.000000               1.000000   \n",
              "\n",
              "         diversity  favourites_count  followers_count  friends_count  \\\n",
              "count  3176.000000       3176.000000     3.176000e+03   3.176000e+03   \n",
              "mean      0.679065       1099.569270     3.709290e+03   2.358259e+03   \n",
              "std       0.140598       5642.348393     4.385638e+04   2.911900e+04   \n",
              "min       0.005000          0.000000     0.000000e+00   1.100000e+01   \n",
              "25%       0.625419         14.000000     9.500000e+01   3.000000e+02   \n",
              "50%       0.696303        122.000000     2.880000e+02   6.150000e+02   \n",
              "75%       0.762596        593.000000     8.305000e+02   1.229000e+03   \n",
              "max       1.000000     176219.000000     1.396699e+06   1.175187e+06   \n",
              "\n",
              "       geo_enabled           id  listed_count  mean_mins_between_tweets  \\\n",
              "count  3176.000000  3176.000000   3176.000000              3.176000e+03   \n",
              "mean      0.441751  1587.500000     84.766058              1.471542e+04   \n",
              "std       0.496674   916.976554    348.608750              5.373373e+04   \n",
              "min       0.000000     0.000000      0.000000             -1.565449e+01   \n",
              "25%       0.000000   793.750000      4.000000              1.152765e+03   \n",
              "50%       0.000000  1587.500000     16.000000              3.851690e+03   \n",
              "75%       1.000000  2381.250000     51.000000              1.082377e+04   \n",
              "max       1.000000  3175.000000   9491.000000              1.139015e+06   \n",
              "\n",
              "       mean_retweets  mean_tweet_length   reply_rate  statuses_count  \n",
              "count    3176.000000        3176.000000  3176.000000     3176.000000  \n",
              "mean        3.873158          91.411502     0.341110     3277.342569  \n",
              "std        42.676343          19.083251     0.248134     8644.423750  \n",
              "min         1.000000           8.500000     0.000000        0.000000  \n",
              "25%         1.166667          80.788596     0.123235      188.000000  \n",
              "50%         1.636364          91.741079     0.313725      723.000000  \n",
              "75%         2.423925         103.283673     0.527856     2646.500000  \n",
              "max      1961.300000         287.875912     1.000000   137264.000000  "
            ]
          },
          "metadata": {
            "tags": []
          },
          "execution_count": 8
        }
      ]
    },
    {
      "metadata": {
        "id": "2BcXeX5nc8g0",
        "colab_type": "code",
        "outputId": "98bb5541-58ca-4973-e013-32ebb00c13ee",
        "colab": {
          "base_uri": "https://localhost:8080/",
          "height": 437
        }
      },
      "cell_type": "code",
      "source": [
        "sns.countplot(x=\"bot\", data=df_train)\n",
        "plt.xticks([0,1],[\"people\",\"bot\"])\n",
        "display(df_train[\"bot\"].value_counts())\n",
        "display(df_train[\"bot\"].value_counts()/len(df_train[\"bot\"]))"
      ],
      "execution_count": 0,
      "outputs": [
        {
          "output_type": "stream",
          "text": [
            "/usr/local/lib/python3.6/dist-packages/seaborn/categorical.py:1428: FutureWarning: remove_na is deprecated and is a private function. Do not use.\n",
            "  stat_data = remove_na(group_data)\n"
          ],
          "name": "stderr"
        },
        {
          "output_type": "display_data",
          "data": {
            "text/plain": [
              "0    1345\n",
              "1     243\n",
              "Name: bot, dtype: int64"
            ]
          },
          "metadata": {
            "tags": []
          }
        },
        {
          "output_type": "display_data",
          "data": {
            "text/plain": [
              "0    0.846977\n",
              "1    0.153023\n",
              "Name: bot, dtype: float64"
            ]
          },
          "metadata": {
            "tags": []
          }
        },
        {
          "output_type": "display_data",
          "data": {
            "image/png": "[encoded data removed]",
            "text/plain": [
              "<Figure size 432x288 with 1 Axes>"
            ]
          },
          "metadata": {
            "tags": []
          }
        }
      ]
    },
    {
      "metadata": {
        "id": "2K18LaxGep5l",
        "colab_type": "code",
        "colab": {}
      },
      "cell_type": "code",
      "source": [
        "# データ作成\n",
        "X_train = df_train.drop([\"id\", \"bot\"], axis=1)\n",
        "Y_train = df_train[\"bot\"]\n",
        "X_test = df_test.drop(\"id\", axis=1).copy()"
      ],
      "execution_count": 0,
      "outputs": []
    },
    {
      "metadata": {
        "id": "94JnW5khhMCk",
        "colab_type": "code",
        "outputId": "2577c826-25ba-4a67-d30b-f8443260a7a1",
        "colab": {
          "base_uri": "https://localhost:8080/",
          "height": 88
        }
      },
      "cell_type": "code",
      "source": [
        "from sklearn .ensemble import RandomForestClassifier\n",
        "\n",
        "forest = RandomForestClassifier(random_state=1)\n",
        "forest.fit(X_train,Y_train)\n",
        "acc_log = round(forest.score(X_train, Y_train) * 100,2)\n",
        "print(round(acc_log,2,), \"%\")"
      ],
      "execution_count": 0,
      "outputs": [
        {
          "output_type": "stream",
          "text": [
            "99.31 %\n"
          ],
          "name": "stdout"
        },
        {
          "output_type": "stream",
          "text": [
            "/usr/local/lib/python3.6/dist-packages/sklearn/ensemble/forest.py:246: FutureWarning: The default value of n_estimators will change from 10 in version 0.20 to 100 in 0.22.\n",
            "  \"10 in version 0.20 to 100 in 0.22.\", FutureWarning)\n"
          ],
          "name": "stderr"
        }
      ]
    },
    {
      "metadata": {
        "id": "-H_rHeU4ozpG",
        "colab_type": "text"
      },
      "cell_type": "markdown",
      "source": [
        "交差検証"
      ]
    },
    {
      "metadata": {
        "id": "_TxBdov_hy56",
        "colab_type": "code",
        "outputId": "12ffd38f-0977-40e3-f07a-f1f38a8fe210",
        "colab": {
          "base_uri": "https://localhost:8080/",
          "height": 190
        }
      },
      "cell_type": "code",
      "source": [
        "from sklearn.model_selection import KFold\n",
        "from sklearn.metrics import accuracy_score\n",
        "\n",
        "kf = KFold(n_splits=3)\n",
        "\n",
        "for train_index, test_index in kf.split(X_train, Y_train):\n",
        "  X_cv_train = X_train.iloc[train_index]\n",
        "  X_cv_test = X_train.iloc[test_index]\n",
        "  Y_cv_train = Y_train.iloc[train_index]\n",
        "  Y_cv_test = Y_train.iloc[test_index]\n",
        "  \n",
        "  forest = RandomForestClassifier(random_state=1)\n",
        "  forest.fit(X_cv_train, Y_cv_train)\n",
        "  predictions = forest.predict(X_cv_test)\n",
        "  \n",
        "  print(round(accuracy_score(Y_cv_test,forest.predict(X_cv_test))*100,2))"
      ],
      "execution_count": 0,
      "outputs": [
        {
          "output_type": "stream",
          "text": [
            "93.58\n",
            "88.66\n",
            "89.98\n"
          ],
          "name": "stdout"
        },
        {
          "output_type": "stream",
          "text": [
            "/usr/local/lib/python3.6/dist-packages/sklearn/ensemble/forest.py:246: FutureWarning: The default value of n_estimators will change from 10 in version 0.20 to 100 in 0.22.\n",
            "  \"10 in version 0.20 to 100 in 0.22.\", FutureWarning)\n",
            "/usr/local/lib/python3.6/dist-packages/sklearn/ensemble/forest.py:246: FutureWarning: The default value of n_estimators will change from 10 in version 0.20 to 100 in 0.22.\n",
            "  \"10 in version 0.20 to 100 in 0.22.\", FutureWarning)\n",
            "/usr/local/lib/python3.6/dist-packages/sklearn/ensemble/forest.py:246: FutureWarning: The default value of n_estimators will change from 10 in version 0.20 to 100 in 0.22.\n",
            "  \"10 in version 0.20 to 100 in 0.22.\", FutureWarning)\n"
          ],
          "name": "stderr"
        }
      ]
    },
    {
      "metadata": {
        "id": "E45J4tLLpUQM",
        "colab_type": "text"
      },
      "cell_type": "markdown",
      "source": [
        "一旦サブミットしてみる →　0.58968"
      ]
    },
    {
      "metadata": {
        "id": "TjTClfDBjtYQ",
        "colab_type": "code",
        "outputId": "c4af4347-856a-464a-f5a5-754f2ed54d10",
        "colab": {
          "base_uri": "https://localhost:8080/",
          "height": 71
        }
      },
      "cell_type": "code",
      "source": [
        "forest = RandomForestClassifier(random_state=1)\n",
        "forest.fit(X_train, Y_train)\n",
        "Y_prediction = forest.predict(X_test)\n",
        "\n",
        "submit = pd.DataFrame({ \"id\":test_data[\"id\"], \"bot\": Y_prediction})\n",
        "submit.to_csv(\"./bot_result7.csv\", index=False,header=None)"
      ],
      "execution_count": 0,
      "outputs": [
        {
          "output_type": "stream",
          "text": [
            "/usr/local/lib/python3.6/dist-packages/sklearn/ensemble/forest.py:246: FutureWarning: The default value of n_estimators will change from 10 in version 0.20 to 100 in 0.22.\n",
            "  \"10 in version 0.20 to 100 in 0.22.\", FutureWarning)\n"
          ],
          "name": "stderr"
        }
      ]
    },
    {
      "metadata": {
        "id": "9gQPoCGQpMl7",
        "colab_type": "text"
      },
      "cell_type": "markdown",
      "source": [
        "特徴量の重要度"
      ]
    },
    {
      "metadata": {
        "id": "AhjuVjAtkXEo",
        "colab_type": "code",
        "outputId": "ba6366c8-38d5-4349-9cdc-a60e7f092887",
        "colab": {
          "base_uri": "https://localhost:8080/",
          "height": 255
        }
      },
      "cell_type": "code",
      "source": [
        "\n",
        "for i,k in zip(X_train.columns,forest.feature_importances_):\n",
        "  print(i,round(k,4))"
      ],
      "execution_count": 0,
      "outputs": [
        {
          "output_type": "stream",
          "text": [
            "statuses_count 0.0923\n",
            "default_profile 0.0359\n",
            "default_profile_image 0.0395\n",
            "friends_count 0.1197\n",
            "followers_count 0.1767\n",
            "favourites_count 0.1091\n",
            "geo_enabled 0.0123\n",
            "listed_count 0.1125\n",
            "account_age_hours 0.0567\n",
            "diversity 0.0544\n",
            "mean_mins_between_tweets 0.0619\n",
            "mean_tweet_length 0.0453\n",
            "mean_retweets 0.0442\n",
            "reply_rate 0.0394\n"
          ],
          "name": "stdout"
        }
      ]
    },
    {
      "metadata": {
        "id": "k7a3WmWPxHsx",
        "colab_type": "text"
      },
      "cell_type": "markdown",
      "source": [
        "標準化"
      ]
    },
    {
      "metadata": {
        "id": "D2NwJubsnzw1",
        "colab_type": "code",
        "outputId": "71a20bc9-81fc-43fe-d025-713680986e86",
        "colab": {
          "base_uri": "https://localhost:8080/",
          "height": 139
        }
      },
      "cell_type": "code",
      "source": [
        "from sklearn.preprocessing import StandardScaler\n",
        "scaler = StandardScaler()\n",
        "\n",
        "X_train_sc = scaler.fit_transform(X_train)\n",
        "X_test_sc = scaler.transform(X_test)"
      ],
      "execution_count": 0,
      "outputs": [
        {
          "output_type": "stream",
          "text": [
            "/usr/local/lib/python3.6/dist-packages/sklearn/preprocessing/data.py:645: DataConversionWarning: Data with input dtype int64, float64 were all converted to float64 by StandardScaler.\n",
            "  return self.partial_fit(X, y)\n",
            "/usr/local/lib/python3.6/dist-packages/sklearn/base.py:464: DataConversionWarning: Data with input dtype int64, float64 were all converted to float64 by StandardScaler.\n",
            "  return self.fit(X, **fit_params).transform(X)\n",
            "/usr/local/lib/python3.6/dist-packages/ipykernel_launcher.py:5: DataConversionWarning: Data with input dtype int64, float64 were all converted to float64 by StandardScaler.\n",
            "  \"\"\"\n"
          ],
          "name": "stderr"
        }
      ]
    },
    {
      "metadata": {
        "id": "uTdgBvlUusWj",
        "colab_type": "code",
        "outputId": "929b3dd0-c66f-483b-e39f-b1b17dbd0787",
        "colab": {
          "base_uri": "https://localhost:8080/",
          "height": 238
        }
      },
      "cell_type": "code",
      "source": [
        "X_train_sc\n",
        "X_test_sc"
      ],
      "execution_count": 0,
      "outputs": [
        {
          "output_type": "execute_result",
          "data": {
            "text/plain": [
              "array([[-0.1444335 , -0.64641871, -0.17843446, ..., -0.09310051,\n",
              "        -0.02146064, -0.89741757],\n",
              "       [-0.31188161, -0.64641871, -0.17843446, ..., -1.33385247,\n",
              "        -0.04712409,  1.07180913],\n",
              "       [-0.38228456, -0.64641871, -0.17843446, ...,  0.32680919,\n",
              "        -0.09845099, -1.05004563],\n",
              "       ...,\n",
              "       [-0.36649211, -0.64641871, -0.17843446, ..., -0.54858649,\n",
              "        -0.05853007,  0.98862916],\n",
              "       [-0.25594502, -0.64641871, -0.17843446, ...,  0.96813429,\n",
              "        -0.08134203,  0.71645825],\n",
              "       [-0.36757709,  1.54698494, -0.17843446, ..., -0.91813111,\n",
              "        -0.09845099, -0.07627861]])"
            ]
          },
          "metadata": {
            "tags": []
          },
          "execution_count": 25
        }
      ]
    },
    {
      "metadata": {
        "id": "KwaxjFXx2B17",
        "colab_type": "code",
        "outputId": "b65bc56f-d57f-44e4-bcf3-370a50883b07",
        "colab": {
          "base_uri": "https://localhost:8080/",
          "height": 88
        }
      },
      "cell_type": "code",
      "source": [
        "forest_sc = RandomForestClassifier(random_state=1)\n",
        "forest_sc.fit(X_train_sc,Y_train)\n",
        "acc_log_sc = round(forest_sc.score(X_train_sc, Y_train) * 100,2)\n",
        "print(round(acc_log_sc,2,), \"%\")"
      ],
      "execution_count": 0,
      "outputs": [
        {
          "output_type": "stream",
          "text": [
            "99.31 %\n"
          ],
          "name": "stdout"
        },
        {
          "output_type": "stream",
          "text": [
            "/usr/local/lib/python3.6/dist-packages/sklearn/ensemble/forest.py:246: FutureWarning: The default value of n_estimators will change from 10 in version 0.20 to 100 in 0.22.\n",
            "  \"10 in version 0.20 to 100 in 0.22.\", FutureWarning)\n"
          ],
          "name": "stderr"
        }
      ]
    },
    {
      "metadata": {
        "id": "NVdP_mAx4NzH",
        "colab_type": "code",
        "outputId": "3ab52d13-f505-4fff-d6f2-e36e77fba0e5",
        "colab": {
          "base_uri": "https://localhost:8080/",
          "height": 190
        }
      },
      "cell_type": "code",
      "source": [
        "kf = KFold(n_splits=3)\n",
        "\n",
        "for train_index, test_index in kf.split(X_train, Y_train):\n",
        "  X_cv_train = X_train.iloc[train_index]\n",
        "  X_cv_test = X_train.iloc[test_index]\n",
        "  Y_cv_train = Y_train.iloc[train_index]\n",
        "  Y_cv_test = Y_train.iloc[test_index]\n",
        "  \n",
        "  forest = RandomForestClassifier(random_state=5)\n",
        "  forest.fit(X_cv_train, Y_cv_train)\n",
        "  predictions = forest.predict(X_cv_test)\n",
        "  \n",
        "  print(round(accuracy_score(Y_cv_test,forest.predict(X_cv_test))*100,2))"
      ],
      "execution_count": 0,
      "outputs": [
        {
          "output_type": "stream",
          "text": [
            "93.96\n",
            "89.98\n",
            "89.98\n"
          ],
          "name": "stdout"
        },
        {
          "output_type": "stream",
          "text": [
            "/usr/local/lib/python3.6/dist-packages/sklearn/ensemble/forest.py:246: FutureWarning: The default value of n_estimators will change from 10 in version 0.20 to 100 in 0.22.\n",
            "  \"10 in version 0.20 to 100 in 0.22.\", FutureWarning)\n",
            "/usr/local/lib/python3.6/dist-packages/sklearn/ensemble/forest.py:246: FutureWarning: The default value of n_estimators will change from 10 in version 0.20 to 100 in 0.22.\n",
            "  \"10 in version 0.20 to 100 in 0.22.\", FutureWarning)\n",
            "/usr/local/lib/python3.6/dist-packages/sklearn/ensemble/forest.py:246: FutureWarning: The default value of n_estimators will change from 10 in version 0.20 to 100 in 0.22.\n",
            "  \"10 in version 0.20 to 100 in 0.22.\", FutureWarning)\n"
          ],
          "name": "stderr"
        }
      ]
    },
    {
      "metadata": {
        "id": "ScwBVd4C5X8O",
        "colab_type": "code",
        "outputId": "d6965641-7067-4797-f0c0-c4d4def22a7b",
        "colab": {
          "base_uri": "https://localhost:8080/",
          "height": 71
        }
      },
      "cell_type": "code",
      "source": [
        "forest = RandomForestClassifier(random_state=5)\n",
        "forest.fit(X_train, Y_train)\n",
        "Y_prediction = forest.predict(X_test)\n",
        "\n",
        "submit = pd.DataFrame({ \"id\":test_data[\"id\"], \"bot\": Y_prediction})\n",
        "submit.to_csv(\"./bot_result9.csv\", index=False,header=None)"
      ],
      "execution_count": 0,
      "outputs": [
        {
          "output_type": "stream",
          "text": [
            "/usr/local/lib/python3.6/dist-packages/sklearn/ensemble/forest.py:246: FutureWarning: The default value of n_estimators will change from 10 in version 0.20 to 100 in 0.22.\n",
            "  \"10 in version 0.20 to 100 in 0.22.\", FutureWarning)\n"
          ],
          "name": "stderr"
        }
      ]
    },
    {
      "metadata": {
        "id": "UrghiEQQ5g-8",
        "colab_type": "code",
        "colab": {}
      },
      "cell_type": "code",
      "source": [
        ""
      ],
      "execution_count": 0,
      "outputs": []
    }
  ]
}